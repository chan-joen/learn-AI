{
  "nbformat": 4,
  "nbformat_minor": 0,
  "metadata": {
    "colab": {
      "provenance": [],
      "authorship_tag": "ABX9TyNEiigVI3yXKi5+FIeAuAjl",
      "include_colab_link": true
    },
    "kernelspec": {
      "name": "python3",
      "display_name": "Python 3"
    },
    "language_info": {
      "name": "python"
    }
  },
  "cells": [
    {
      "cell_type": "markdown",
      "metadata": {
        "id": "view-in-github",
        "colab_type": "text"
      },
      "source": [
        "<a href=\"https://colab.research.google.com/github/chan-joen/learn-AI/blob/main/Untitled0_ipynb%EC%9D%98_%EC%82%AC%EB%B3%B8.ipynb\" target=\"_parent\"><img src=\"https://colab.research.google.com/assets/colab-badge.svg\" alt=\"Open In Colab\"/></a>"
      ]
    },
    {
      "cell_type": "code",
      "metadata": {
        "id": "pVrYF65gcMou"
      },
      "source": [],
      "execution_count": null,
      "outputs": []
    },
    {
      "cell_type": "markdown",
      "metadata": {
        "id": "tlaROq3BcZk0"
      },
      "source": [
        "-iris 데이터 다운로드\n"
      ]
    },
    {
      "cell_type": "code",
      "metadata": {
        "colab": {
          "base_uri": "https://localhost:8080/",
          "height": 203
        },
        "id": "QI3QCuTIcdr7",
        "outputId": "3d6c543f-2656-4c1b-edc8-06646963b6d5"
      },
      "source": [
        "import numpy as np\n",
        "import matplotlib.pyplot as plt\n",
        "import pandas as pd\n",
        "\n",
        "url = \"https://archive.ics.uci.edu/ml/machine-learning-databases/iris/iris.data\"\n",
        "\n",
        "# Assign colum names to the dataset\n",
        "names = ['sepal-length', 'sepal-width', 'petal-length', 'petal-width', 'Class']\n",
        "\n",
        "# Read dataset to pandas dataframe\n",
        "dataset = pd.read_csv(url, names=names)\n",
        "\n",
        "dataset.head()"
      ],
      "execution_count": null,
      "outputs": [
        {
          "output_type": "execute_result",
          "data": {
            "text/html": [
              "<div>\n",
              "<style scoped>\n",
              "    .dataframe tbody tr th:only-of-type {\n",
              "        vertical-align: middle;\n",
              "    }\n",
              "\n",
              "    .dataframe tbody tr th {\n",
              "        vertical-align: top;\n",
              "    }\n",
              "\n",
              "    .dataframe thead th {\n",
              "        text-align: right;\n",
              "    }\n",
              "</style>\n",
              "<table border=\"1\" class=\"dataframe\">\n",
              "  <thead>\n",
              "    <tr style=\"text-align: right;\">\n",
              "      <th></th>\n",
              "      <th>sepal-length</th>\n",
              "      <th>sepal-width</th>\n",
              "      <th>petal-length</th>\n",
              "      <th>petal-width</th>\n",
              "      <th>Class</th>\n",
              "    </tr>\n",
              "  </thead>\n",
              "  <tbody>\n",
              "    <tr>\n",
              "      <th>0</th>\n",
              "      <td>5.1</td>\n",
              "      <td>3.5</td>\n",
              "      <td>1.4</td>\n",
              "      <td>0.2</td>\n",
              "      <td>Iris-setosa</td>\n",
              "    </tr>\n",
              "    <tr>\n",
              "      <th>1</th>\n",
              "      <td>4.9</td>\n",
              "      <td>3.0</td>\n",
              "      <td>1.4</td>\n",
              "      <td>0.2</td>\n",
              "      <td>Iris-setosa</td>\n",
              "    </tr>\n",
              "    <tr>\n",
              "      <th>2</th>\n",
              "      <td>4.7</td>\n",
              "      <td>3.2</td>\n",
              "      <td>1.3</td>\n",
              "      <td>0.2</td>\n",
              "      <td>Iris-setosa</td>\n",
              "    </tr>\n",
              "    <tr>\n",
              "      <th>3</th>\n",
              "      <td>4.6</td>\n",
              "      <td>3.1</td>\n",
              "      <td>1.5</td>\n",
              "      <td>0.2</td>\n",
              "      <td>Iris-setosa</td>\n",
              "    </tr>\n",
              "    <tr>\n",
              "      <th>4</th>\n",
              "      <td>5.0</td>\n",
              "      <td>3.6</td>\n",
              "      <td>1.4</td>\n",
              "      <td>0.2</td>\n",
              "      <td>Iris-setosa</td>\n",
              "    </tr>\n",
              "  </tbody>\n",
              "</table>\n",
              "</div>"
            ],
            "text/plain": [
              "   sepal-length  sepal-width  petal-length  petal-width        Class\n",
              "0           5.1          3.5           1.4          0.2  Iris-setosa\n",
              "1           4.9          3.0           1.4          0.2  Iris-setosa\n",
              "2           4.7          3.2           1.3          0.2  Iris-setosa\n",
              "3           4.6          3.1           1.5          0.2  Iris-setosa\n",
              "4           5.0          3.6           1.4          0.2  Iris-setosa"
            ]
          },
          "metadata": {},
          "execution_count": 1
        }
      ]
    },
    {
      "cell_type": "code",
      "metadata": {
        "colab": {
          "base_uri": "https://localhost:8080/"
        },
        "id": "TGNuWNetdA08",
        "outputId": "e206f955-948a-44e1-e0c0-d7d50019980e"
      },
      "source": [
        "# Preprocessing\n",
        "X = dataset.iloc[:, :-1].values\n",
        "y = dataset.iloc[:, 4].values\n",
        "\n",
        "from sklearn.model_selection import train_test_split\n",
        "X_train, X_test, y_train, y_test = train_test_split(X, y, test_size=0.20)\n",
        "\n",
        "#Feature Scaling\n",
        "from sklearn.preprocessing import StandardScaler\n",
        "scaler = StandardScaler()\n",
        "scaler.fit(X_train)\n",
        "\n",
        "X_train = scaler.transform(X_train)\n",
        "X_test = scaler.transform(X_test)\n",
        "\n",
        "# Training and Predictions\n",
        "from sklearn.neighbors import KNeighborsClassifier\n",
        "classifier = KNeighborsClassifier(n_neighbors=5)\n",
        "classifier.fit(X_train, y_train)\n",
        "\n",
        "y_pred = classifier.predict(X_test)\n",
        "\n",
        "# Evaluating the Algorithm\n",
        "from sklearn.metrics import classification_report, confusion_matrix\n",
        "print(confusion_matrix(y_test, y_pred))\n",
        "print(classification_report(y_test, y_pred))"
      ],
      "execution_count": null,
      "outputs": [
        {
          "output_type": "stream",
          "name": "stdout",
          "text": [
            "[[ 9  0  0]\n",
            " [ 0  9  1]\n",
            " [ 0  0 11]]\n",
            "                 precision    recall  f1-score   support\n",
            "\n",
            "    Iris-setosa       1.00      1.00      1.00         9\n",
            "Iris-versicolor       1.00      0.90      0.95        10\n",
            " Iris-virginica       0.92      1.00      0.96        11\n",
            "\n",
            "       accuracy                           0.97        30\n",
            "      macro avg       0.97      0.97      0.97        30\n",
            "   weighted avg       0.97      0.97      0.97        30\n",
            "\n"
          ]
        }
      ]
    },
    {
      "cell_type": "code",
      "metadata": {
        "colab": {
          "base_uri": "https://localhost:8080/"
        },
        "id": "O_TDdBhIe-y4",
        "outputId": "fc781761-9ee7-4976-ce13-37d9950a8e06"
      },
      "source": [
        "!pip install mglearn"
      ],
      "execution_count": null,
      "outputs": [
        {
          "output_type": "stream",
          "name": "stdout",
          "text": [
            "Collecting mglearn\n",
            "  Downloading mglearn-0.1.9.tar.gz (540 kB)\n",
            "\u001b[?25l\r\u001b[K     |▋                               | 10 kB 22.8 MB/s eta 0:00:01\r\u001b[K     |█▏                              | 20 kB 28.8 MB/s eta 0:00:01\r\u001b[K     |█▉                              | 30 kB 13.2 MB/s eta 0:00:01\r\u001b[K     |██▍                             | 40 kB 10.5 MB/s eta 0:00:01\r\u001b[K     |███                             | 51 kB 5.5 MB/s eta 0:00:01\r\u001b[K     |███▋                            | 61 kB 6.0 MB/s eta 0:00:01\r\u001b[K     |████▎                           | 71 kB 5.8 MB/s eta 0:00:01\r\u001b[K     |████▉                           | 81 kB 6.5 MB/s eta 0:00:01\r\u001b[K     |█████▌                          | 92 kB 4.8 MB/s eta 0:00:01\r\u001b[K     |██████                          | 102 kB 5.2 MB/s eta 0:00:01\r\u001b[K     |██████▊                         | 112 kB 5.2 MB/s eta 0:00:01\r\u001b[K     |███████▎                        | 122 kB 5.2 MB/s eta 0:00:01\r\u001b[K     |███████▉                        | 133 kB 5.2 MB/s eta 0:00:01\r\u001b[K     |████████▌                       | 143 kB 5.2 MB/s eta 0:00:01\r\u001b[K     |█████████                       | 153 kB 5.2 MB/s eta 0:00:01\r\u001b[K     |█████████▊                      | 163 kB 5.2 MB/s eta 0:00:01\r\u001b[K     |██████████▎                     | 174 kB 5.2 MB/s eta 0:00:01\r\u001b[K     |███████████                     | 184 kB 5.2 MB/s eta 0:00:01\r\u001b[K     |███████████▌                    | 194 kB 5.2 MB/s eta 0:00:01\r\u001b[K     |████████████▏                   | 204 kB 5.2 MB/s eta 0:00:01\r\u001b[K     |████████████▊                   | 215 kB 5.2 MB/s eta 0:00:01\r\u001b[K     |█████████████▍                  | 225 kB 5.2 MB/s eta 0:00:01\r\u001b[K     |██████████████                  | 235 kB 5.2 MB/s eta 0:00:01\r\u001b[K     |██████████████▋                 | 245 kB 5.2 MB/s eta 0:00:01\r\u001b[K     |███████████████▏                | 256 kB 5.2 MB/s eta 0:00:01\r\u001b[K     |███████████████▊                | 266 kB 5.2 MB/s eta 0:00:01\r\u001b[K     |████████████████▍               | 276 kB 5.2 MB/s eta 0:00:01\r\u001b[K     |█████████████████               | 286 kB 5.2 MB/s eta 0:00:01\r\u001b[K     |█████████████████▋              | 296 kB 5.2 MB/s eta 0:00:01\r\u001b[K     |██████████████████▏             | 307 kB 5.2 MB/s eta 0:00:01\r\u001b[K     |██████████████████▉             | 317 kB 5.2 MB/s eta 0:00:01\r\u001b[K     |███████████████████▍            | 327 kB 5.2 MB/s eta 0:00:01\r\u001b[K     |████████████████████            | 337 kB 5.2 MB/s eta 0:00:01\r\u001b[K     |████████████████████▋           | 348 kB 5.2 MB/s eta 0:00:01\r\u001b[K     |█████████████████████▎          | 358 kB 5.2 MB/s eta 0:00:01\r\u001b[K     |█████████████████████▉          | 368 kB 5.2 MB/s eta 0:00:01\r\u001b[K     |██████████████████████▌         | 378 kB 5.2 MB/s eta 0:00:01\r\u001b[K     |███████████████████████         | 389 kB 5.2 MB/s eta 0:00:01\r\u001b[K     |███████████████████████▋        | 399 kB 5.2 MB/s eta 0:00:01\r\u001b[K     |████████████████████████▎       | 409 kB 5.2 MB/s eta 0:00:01\r\u001b[K     |████████████████████████▉       | 419 kB 5.2 MB/s eta 0:00:01\r\u001b[K     |█████████████████████████▌      | 430 kB 5.2 MB/s eta 0:00:01\r\u001b[K     |██████████████████████████      | 440 kB 5.2 MB/s eta 0:00:01\r\u001b[K     |██████████████████████████▊     | 450 kB 5.2 MB/s eta 0:00:01\r\u001b[K     |███████████████████████████▎    | 460 kB 5.2 MB/s eta 0:00:01\r\u001b[K     |████████████████████████████    | 471 kB 5.2 MB/s eta 0:00:01\r\u001b[K     |████████████████████████████▌   | 481 kB 5.2 MB/s eta 0:00:01\r\u001b[K     |█████████████████████████████▏  | 491 kB 5.2 MB/s eta 0:00:01\r\u001b[K     |█████████████████████████████▊  | 501 kB 5.2 MB/s eta 0:00:01\r\u001b[K     |██████████████████████████████▍ | 512 kB 5.2 MB/s eta 0:00:01\r\u001b[K     |███████████████████████████████ | 522 kB 5.2 MB/s eta 0:00:01\r\u001b[K     |███████████████████████████████▌| 532 kB 5.2 MB/s eta 0:00:01\r\u001b[K     |████████████████████████████████| 540 kB 5.2 MB/s \n",
            "\u001b[?25hRequirement already satisfied: numpy in /usr/local/lib/python3.7/dist-packages (from mglearn) (1.19.5)\n",
            "Requirement already satisfied: matplotlib in /usr/local/lib/python3.7/dist-packages (from mglearn) (3.2.2)\n",
            "Requirement already satisfied: scikit-learn in /usr/local/lib/python3.7/dist-packages (from mglearn) (0.22.2.post1)\n",
            "Requirement already satisfied: pandas in /usr/local/lib/python3.7/dist-packages (from mglearn) (1.1.5)\n",
            "Requirement already satisfied: pillow in /usr/local/lib/python3.7/dist-packages (from mglearn) (7.1.2)\n",
            "Requirement already satisfied: cycler in /usr/local/lib/python3.7/dist-packages (from mglearn) (0.10.0)\n",
            "Requirement already satisfied: imageio in /usr/local/lib/python3.7/dist-packages (from mglearn) (2.4.1)\n",
            "Requirement already satisfied: joblib in /usr/local/lib/python3.7/dist-packages (from mglearn) (1.0.1)\n",
            "Requirement already satisfied: six in /usr/local/lib/python3.7/dist-packages (from cycler->mglearn) (1.15.0)\n",
            "Requirement already satisfied: pyparsing!=2.0.4,!=2.1.2,!=2.1.6,>=2.0.1 in /usr/local/lib/python3.7/dist-packages (from matplotlib->mglearn) (2.4.7)\n",
            "Requirement already satisfied: python-dateutil>=2.1 in /usr/local/lib/python3.7/dist-packages (from matplotlib->mglearn) (2.8.2)\n",
            "Requirement already satisfied: kiwisolver>=1.0.1 in /usr/local/lib/python3.7/dist-packages (from matplotlib->mglearn) (1.3.1)\n",
            "Requirement already satisfied: pytz>=2017.2 in /usr/local/lib/python3.7/dist-packages (from pandas->mglearn) (2018.9)\n",
            "Requirement already satisfied: scipy>=0.17.0 in /usr/local/lib/python3.7/dist-packages (from scikit-learn->mglearn) (1.4.1)\n",
            "Building wheels for collected packages: mglearn\n",
            "  Building wheel for mglearn (setup.py) ... \u001b[?25l\u001b[?25hdone\n",
            "  Created wheel for mglearn: filename=mglearn-0.1.9-py2.py3-none-any.whl size=582637 sha256=0421841a0ec280139e633a0f40e556660d4d666aa0d40b92b717d357fc549037\n",
            "  Stored in directory: /root/.cache/pip/wheels/f1/17/e1/1720d6dcd70187b6b6c3750cb3508798f2b1d57c9d3214b08b\n",
            "Successfully built mglearn\n",
            "Installing collected packages: mglearn\n",
            "Successfully installed mglearn-0.1.9\n"
          ]
        }
      ]
    },
    {
      "cell_type": "code",
      "metadata": {
        "id": "topdwULMe0Ls"
      },
      "source": [
        "from IPython.display import display \n",
        "import numpy as np \n",
        "import pandas as pd \n",
        "import matplotlib.pyplot as plt \n",
        "import mglearn\n"
      ],
      "execution_count": null,
      "outputs": []
    },
    {
      "cell_type": "code",
      "metadata": {
        "colab": {
          "base_uri": "https://localhost:8080/"
        },
        "id": "Ar3CZHAAfU_g",
        "outputId": "a8aaba59-7274-4674-e66d-132458aa3b16"
      },
      "source": [
        "from sklearn.model_selection import train_test_split \n",
        "X, y = mglearn.datasets.make_forge() \n",
        "X_train, X_test, y_train, y_test = train_test_split(X, y, random_state = 0)\n",
        "print(\"테스트 세트 예측: \", clf.predict(X_test))\n",
        "print(\"테스트 세트 정확도: {:.3f}\".format(clf.score(X_test, y_test)))\n"
      ],
      "execution_count": null,
      "outputs": [
        {
          "output_type": "stream",
          "name": "stdout",
          "text": [
            "테스트 세트 예측:  [1 0 1 0 1 0 0]\n",
            "테스트 세트 정확도: 0.857\n"
          ]
        },
        {
          "output_type": "stream",
          "name": "stderr",
          "text": [
            "/usr/local/lib/python3.7/dist-packages/sklearn/utils/deprecation.py:87: FutureWarning: Function make_blobs is deprecated; Please import make_blobs directly from scikit-learn\n",
            "  warnings.warn(msg, category=FutureWarning)\n"
          ]
        }
      ]
    },
    {
      "cell_type": "code",
      "metadata": {
        "colab": {
          "base_uri": "https://localhost:8080/"
        },
        "id": "OMN1bMA7fpAw",
        "outputId": "efe964f9-2307-4c4d-e6b4-43206d9fcab4"
      },
      "source": [
        "from sklearn.neighbors import KNeighborsClassifier \n",
        "clf = KNeighborsClassifier(n_neighbors = 3)\n",
        "clf.fit(X_train, y_train)"
      ],
      "execution_count": null,
      "outputs": [
        {
          "output_type": "execute_result",
          "data": {
            "text/plain": [
              "KNeighborsClassifier(algorithm='auto', leaf_size=30, metric='minkowski',\n",
              "                     metric_params=None, n_jobs=None, n_neighbors=3, p=2,\n",
              "                     weights='uniform')"
            ]
          },
          "metadata": {},
          "execution_count": 7
        }
      ]
    },
    {
      "cell_type": "code",
      "metadata": {
        "colab": {
          "base_uri": "https://localhost:8080/",
          "height": 296
        },
        "id": "l5xcVI2FkXu9",
        "outputId": "57a1660f-51ed-48ed-9ec4-09ffcf6d5b3f"
      },
      "source": [
        "fig, axes = plt.subplots(1, 3, figsize = (10, 4)) \n",
        "for n_neighbors, ax in zip([1, 3, 9], axes):\n",
        "   clf = KNeighborsClassifier(n_neighbors = n_neighbors).fit(X, y)\n",
        "   mglearn.plots.plot_2d_separator(clf, X, fill = True, eps = 0.5, ax = ax, alpha = .4)\n",
        "   mglearn.discrete_scatter(X[:, 0], X[:, 1], y, ax = ax)\n",
        "   ax.set_title(\"{} Neighbors\".format(n_neighbors))\n",
        "   ax.set_xlabel(\"Feature 0\")\n",
        "   ax.set_ylabel(\"Feature 1\") \n",
        "axes[0].legend(loc = 3)\n",
        "\n"
      ],
      "execution_count": null,
      "outputs": [
        {
          "output_type": "execute_result",
          "data": {
            "text/plain": [
              "<matplotlib.legend.Legend at 0x7f87d09b2210>"
            ]
          },
          "metadata": {},
          "execution_count": 9
        },
        {
          "output_type": "display_data",
          "data": {
            "image/png": "[encoded data removed]",
            "text/plain": [
              "<Figure size 720x288 with 3 Axes>"
            ]
          },
          "metadata": {}
        }
      ]
    },
    {
      "cell_type": "code",
      "metadata": {
        "id": "uD3wI5fVkjdc"
      },
      "source": [],
      "execution_count": null,
      "outputs": []
    },
    {
      "cell_type": "code",
      "metadata": {
        "colab": {
          "base_uri": "https://localhost:8080/",
          "height": 300
        },
        "id": "CI93ZVJilDr9",
        "outputId": "771d92c2-bc89-4c99-e63c-a0d172d61b27"
      },
      "source": [
        "mglearn.plots.plot_knn_classification(n_neighbors=4)\n",
        "plt.show()"
      ],
      "execution_count": null,
      "outputs": [
        {
          "output_type": "stream",
          "name": "stderr",
          "text": [
            "/usr/local/lib/python3.7/dist-packages/sklearn/utils/deprecation.py:87: FutureWarning: Function make_blobs is deprecated; Please import make_blobs directly from scikit-learn\n",
            "  warnings.warn(msg, category=FutureWarning)\n"
          ]
        },
        {
          "output_type": "display_data",
          "data": {
            "image/png": "[encoded data removed]",
            "text/plain": [
              "<Figure size 432x288 with 1 Axes>"
            ]
          },
          "metadata": {
            "needs_background": "light"
          }
        }
      ]
    }
  ]
}